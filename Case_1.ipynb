{
 "cells": [
  {
   "cell_type": "markdown",
   "id": "444773f9",
   "metadata": {},
   "source": [
    "# Case 1: The Sample with the Built-in Bias\n",
    "The crook (C) and the reporter (R) are analyzing data to know the proportion between red and blue marbles by taking samples from a jar."
   ]
  },
  {
   "cell_type": "markdown",
   "id": "53e6679c",
   "metadata": {},
   "source": [
    "# Libraries and functions"
   ]
  },
  {
   "cell_type": "code",
   "execution_count": 1,
   "id": "39925ba1",
   "metadata": {},
   "outputs": [],
   "source": [
    "# Importing objects for data structuring\n",
    "from numpy import array, concatenate\n",
    "from pandas import DataFrame as df\n",
    "\n",
    "# Library to query data with SQL commands\n",
    "from pandasql import sqldf\n",
    "\n",
    "# Taking random samples\n",
    "from random import seed, randint\n",
    "\n",
    "# Set seed for code reproducibility\n",
    "seed(101)"
   ]
  },
  {
   "cell_type": "markdown",
   "id": "fdbb8cc5",
   "metadata": {},
   "source": [
    "# Data"
   ]
  },
  {
   "cell_type": "code",
   "execution_count": 2,
   "id": "9e8929f6",
   "metadata": {},
   "outputs": [],
   "source": [
    "# Subsets of colored marbles\n",
    "red_marbles  = array(['red']  * 634)\n",
    "blue_marbles = array(['blue'] * 870)\n",
    "\n",
    "# Population containing both sets of marbles (Jar of marbles)\n",
    "jar_of_marbles = concatenate([red_marbles, blue_marbles])"
   ]
  },
  {
   "cell_type": "markdown",
   "id": "4520f851",
   "metadata": {},
   "source": [
    "# Statistical Analyses"
   ]
  },
  {
   "cell_type": "markdown",
   "id": "2a32c8ca",
   "metadata": {},
   "source": [
    "## > The CROOK's approach\n",
    "C analyses small and biased samples. From the jar of marbles, C takes 3 samples and purposefully takes marbles were most of the red are, then takes some from were some blue are"
   ]
  },
  {
   "cell_type": "code",
   "execution_count": 3,
   "id": "8078d6fa",
   "metadata": {},
   "outputs": [
    {
     "data": {
      "text/html": [
       "<div>\n",
       "<style scoped>\n",
       "    .dataframe tbody tr th:only-of-type {\n",
       "        vertical-align: middle;\n",
       "    }\n",
       "\n",
       "    .dataframe tbody tr th {\n",
       "        vertical-align: top;\n",
       "    }\n",
       "\n",
       "    .dataframe thead th {\n",
       "        text-align: right;\n",
       "    }\n",
       "</style>\n",
       "<table border=\"1\" class=\"dataframe\">\n",
       "  <thead>\n",
       "    <tr style=\"text-align: right;\">\n",
       "      <th></th>\n",
       "      <th>Samples</th>\n",
       "      <th>percentage</th>\n",
       "    </tr>\n",
       "  </thead>\n",
       "  <tbody>\n",
       "    <tr>\n",
       "      <th>0</th>\n",
       "      <td>blue</td>\n",
       "      <td>20.0</td>\n",
       "    </tr>\n",
       "    <tr>\n",
       "      <th>1</th>\n",
       "      <td>red</td>\n",
       "      <td>80.0</td>\n",
       "    </tr>\n",
       "  </tbody>\n",
       "</table>\n",
       "</div>"
      ],
      "text/plain": [
       "  Samples  percentage\n",
       "0    blue        20.0\n",
       "1     red        80.0"
      ]
     },
     "execution_count": 3,
     "metadata": {},
     "output_type": "execute_result"
    }
   ],
   "source": [
    "# ! Notice that the first 634 marbles in the \"jar\" are red\n",
    "# The crook defines the marbles positions (mp) for analysis as follows:\n",
    "mp = [randint(0, 629), randint(0, 629), 632]\n",
    "\n",
    "biased_sample = df({\"Samples\":concatenate([jar_of_marbles[mp[0]:mp[0]+5]\n",
    "                            , jar_of_marbles[mp[1]:mp[1]+5]\n",
    "                            , jar_of_marbles[mp[2]:mp[2]+5]])})\n",
    "\n",
    "sqldf(\"\"\"Select Samples, cast(count(*) as float) / 15 * 100 as percentage\n",
    "      from biased_sample \n",
    "      group by 1\"\"\")"
   ]
  },
  {
   "cell_type": "markdown",
   "id": "4316c4ae",
   "metadata": {},
   "source": [
    "## > The REPORTER's approach\n",
    "From the jar of marbles, R takes 200 samples to "
   ]
  },
  {
   "cell_type": "code",
   "execution_count": 4,
   "id": "f0bc37db",
   "metadata": {},
   "outputs": [
    {
     "data": {
      "text/html": [
       "<div>\n",
       "<style scoped>\n",
       "    .dataframe tbody tr th:only-of-type {\n",
       "        vertical-align: middle;\n",
       "    }\n",
       "\n",
       "    .dataframe tbody tr th {\n",
       "        vertical-align: top;\n",
       "    }\n",
       "\n",
       "    .dataframe thead th {\n",
       "        text-align: right;\n",
       "    }\n",
       "</style>\n",
       "<table border=\"1\" class=\"dataframe\">\n",
       "  <thead>\n",
       "    <tr style=\"text-align: right;\">\n",
       "      <th></th>\n",
       "      <th>Samples</th>\n",
       "      <th>percentage</th>\n",
       "    </tr>\n",
       "  </thead>\n",
       "  <tbody>\n",
       "    <tr>\n",
       "      <th>0</th>\n",
       "      <td>blue</td>\n",
       "      <td>57.0</td>\n",
       "    </tr>\n",
       "    <tr>\n",
       "      <th>1</th>\n",
       "      <td>red</td>\n",
       "      <td>43.0</td>\n",
       "    </tr>\n",
       "  </tbody>\n",
       "</table>\n",
       "</div>"
      ],
      "text/plain": [
       "  Samples  percentage\n",
       "0    blue        57.0\n",
       "1     red        43.0"
      ]
     },
     "execution_count": 4,
     "metadata": {},
     "output_type": "execute_result"
    }
   ],
   "source": [
    "mixed_sample = df({\"Samples\": jar_of_marbles}).sample(200,  replace=False)\n",
    "\n",
    "sqldf(\"\"\"Select Samples, cast(count(*) as float) / 200 * 100 as percentage\n",
    "      from mixed_sample \n",
    "      group by 1\"\"\")"
   ]
  },
  {
   "cell_type": "markdown",
   "id": "4ce3892e",
   "metadata": {},
   "source": [
    "# Source:\n",
    "\"How to lie with statistics\" by  Darrel Huff"
   ]
  }
 ],
 "metadata": {
  "kernelspec": {
   "display_name": "Python 3 (ipykernel)",
   "language": "python",
   "name": "python3"
  },
  "language_info": {
   "codemirror_mode": {
    "name": "ipython",
    "version": 3
   },
   "file_extension": ".py",
   "mimetype": "text/x-python",
   "name": "python",
   "nbconvert_exporter": "python",
   "pygments_lexer": "ipython3",
   "version": "3.8.12"
  }
 },
 "nbformat": 4,
 "nbformat_minor": 5
}
